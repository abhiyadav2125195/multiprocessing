{
 "cells": [
  {
   "cell_type": "markdown",
   "id": "e57c6eb1-06d2-4775-bfc6-2e1cbc780113",
   "metadata": {},
   "source": [
    "# Q1. What is multiprocessing in python? Why is it useful?"
   ]
  },
  {
   "cell_type": "markdown",
   "id": "b04b8dfe-72cb-4eda-a64e-bda0d3f11a01",
   "metadata": {},
   "source": [
    "### multiprocessing meam usimg more than one process at a time by single or multiple thread . \n",
    "\n",
    "### Here are some reasons why multiprocessing is useful:\n",
    "### Improved Performance: Multiprocessing allows for the utilization of multiple CPU cores, enabling parallel execution of tasks.\n",
    "### concurrency While one process is waiting for I/O (e.g., reading from a file or making a network request), another process can execute, making better use of available resources and improving overall efficiency.\n",
    "### Isolation: Each process in multiprocessing has its own memory space, allowing for isolation between processes. This can be advantageous when dealing with shared resources, as it avoids potential conflicts and provides better control over data sharing.\n",
    "### Scalability: Multiprocessing allows for scaling up the computational capabilities of a program by leveraging multiple processors or cores. It enables the execution of computationally intensive tasks more quickly by distributing the workload among multiple processes."
   ]
  },
  {
   "cell_type": "markdown",
   "id": "fdce9d4d-3e5f-447c-a8b2-aa29e3f33aba",
   "metadata": {},
   "source": [
    "# Q2. What are the differences between multiprocessing and multithreading?"
   ]
  },
  {
   "cell_type": "markdown",
   "id": "9b4dc622-8112-44c4-a80e-485f0f544e37",
   "metadata": {},
   "source": [
    "### in multithreading we apply multiple thread in single processor but in multiprocessing we use multiprocessor for multiple threading\n"
   ]
  },
  {
   "cell_type": "markdown",
   "id": "a7fbcba8-78ce-488c-9306-97e071b3ce01",
   "metadata": {},
   "source": [
    "# Q3. Write a python code to create a process using the multiprocessing module."
   ]
  },
  {
   "cell_type": "code",
   "execution_count": 12,
   "id": "76d5afc6-eb97-4998-bd24-65e5eb9752e3",
   "metadata": {},
   "outputs": [
    {
     "name": "stdout",
     "output_type": "stream",
     "text": [
      "this is my main program\n",
      "this is my multiprocessing prog\n"
     ]
    }
   ],
   "source": [
    "import multiprocessing\n",
    "def test() :\n",
    "    print(\"this is my multiprocessing prog\")\n",
    "    \n",
    "if __name__ =='__main__' :\n",
    "    m = multiprocessing.Process(target = test)\n",
    "    print (\"this is my main program\")\n",
    "    m.start()\n",
    "    m.join()"
   ]
  },
  {
   "cell_type": "markdown",
   "id": "660a450a-9aa9-45e2-8ec5-6da7958b34f9",
   "metadata": {},
   "source": [
    "# Q4. What is a multiprocessing pool in python? Why is it used?"
   ]
  },
  {
   "cell_type": "markdown",
   "id": "7a9ae16c-cdf3-46da-844b-b9b74b08b847",
   "metadata": {},
   "source": [
    "### In Python, a multiprocessing pool is a mechanism provided by the multiprocessing module that allows for the parallel execution of a function across multiple processes. It provides a convenient way to distribute tasks among a fixed number of worker processes, known as a pool, to perform parallel processing.\n",
    "\n",
    "### Parallel Execution: Multiprocessing pools enable parallel execution of tasks by distributing the workload among multiple worker processes\n",
    "### Resource Limitations: The number of worker processes in a pool is limited, which can be beneficial in scenarios where the system resources, such as CPU cores or memory, have limitations. \n",
    "### Task Distribution: The pool evenly distributes tasks among worker processes, ensuring that the workload is balanced across the available resources. This helps maximize the utilization of system resources and improves overall efficiency."
   ]
  },
  {
   "cell_type": "markdown",
   "id": "68253643-7d68-48ae-a14c-c9606fa7a8b2",
   "metadata": {},
   "source": [
    "# Q5. How can we create a pool of worker processes in python using the multiprocessing module?"
   ]
  },
  {
   "cell_type": "code",
   "execution_count": 13,
   "id": "f5fcbdd7-a790-4eb4-a571-d2ab4e5c7d4f",
   "metadata": {},
   "outputs": [
    {
     "name": "stdout",
     "output_type": "stream",
     "text": [
      "[1, 4, 9, 16, 25]\n"
     ]
    }
   ],
   "source": [
    "def square(n) :\n",
    "    return n**2\n",
    "\n",
    "if __name__ == \"__main__\" :\n",
    "    with multiprocessing.Pool(processes = 4 ) as pool :\n",
    "        out = pool.map(square , [1,2,3,4,5])\n",
    "        print(out)\n",
    "    "
   ]
  },
  {
   "cell_type": "code",
   "execution_count": null,
   "id": "5d641d4b-cc0f-4eb2-9e57-9093294b93eb",
   "metadata": {},
   "outputs": [],
   "source": []
  }
 ],
 "metadata": {
  "kernelspec": {
   "display_name": "Python 3 (ipykernel)",
   "language": "python",
   "name": "python3"
  },
  "language_info": {
   "codemirror_mode": {
    "name": "ipython",
    "version": 3
   },
   "file_extension": ".py",
   "mimetype": "text/x-python",
   "name": "python",
   "nbconvert_exporter": "python",
   "pygments_lexer": "ipython3",
   "version": "3.10.8"
  }
 },
 "nbformat": 4,
 "nbformat_minor": 5
}
